{
  "nbformat": 4,
  "nbformat_minor": 0,
  "metadata": {
    "colab": {
      "provenance": [],
      "gpuType": "V28"
    },
    "kernelspec": {
      "name": "python3",
      "display_name": "Python 3"
    },
    "language_info": {
      "name": "python"
    },
    "accelerator": "TPU"
  },
  "cells": [
    {
      "cell_type": "code",
      "execution_count": 2,
      "metadata": {
        "colab": {
          "base_uri": "https://localhost:8080/"
        },
        "id": "U61d3aC3VfJp",
        "outputId": "777dd327-fe6d-48b3-abc1-1c028ce6f2ee"
      },
      "outputs": [
        {
          "output_type": "stream",
          "name": "stdout",
          "text": [
            "Warning: Looks like you're using an outdated `kagglehub` version (installed: 0.3.5), please consider upgrading to the latest version (0.3.6).\n",
            "Path to dataset files: /root/.cache/kagglehub/datasets/co1d7era/mixedtype-wafer-defect-datasets/versions/3\n"
          ]
        }
      ],
      "source": [
        "import kagglehub\n",
        "\n",
        "# Download latest version\n",
        "path = kagglehub.dataset_download(\"co1d7era/mixedtype-wafer-defect-datasets\")\n",
        "\n",
        "print(\"Path to dataset files:\", path)"
      ]
    },
    {
      "cell_type": "code",
      "source": [
        "import os"
      ],
      "metadata": {
        "id": "B5HZmFZdEROk"
      },
      "execution_count": 4,
      "outputs": []
    },
    {
      "cell_type": "code",
      "source": [
        "from google.colab import files\n",
        "\n",
        "pdf_path = os.path.join(path, 'E.pdf')\n",
        "files.download(pdf_path)  # Downloads the PDF file to your computer\n"
      ],
      "metadata": {
        "colab": {
          "base_uri": "https://localhost:8080/",
          "height": 17
        },
        "id": "_1b5fKhWYwVc",
        "outputId": "fde7b9c1-eb95-4195-b5bf-d334ddff737c"
      },
      "execution_count": 5,
      "outputs": [
        {
          "output_type": "display_data",
          "data": {
            "text/plain": [
              "<IPython.core.display.Javascript object>"
            ],
            "application/javascript": [
              "\n",
              "    async function download(id, filename, size) {\n",
              "      if (!google.colab.kernel.accessAllowed) {\n",
              "        return;\n",
              "      }\n",
              "      const div = document.createElement('div');\n",
              "      const label = document.createElement('label');\n",
              "      label.textContent = `Downloading \"${filename}\": `;\n",
              "      div.appendChild(label);\n",
              "      const progress = document.createElement('progress');\n",
              "      progress.max = size;\n",
              "      div.appendChild(progress);\n",
              "      document.body.appendChild(div);\n",
              "\n",
              "      const buffers = [];\n",
              "      let downloaded = 0;\n",
              "\n",
              "      const channel = await google.colab.kernel.comms.open(id);\n",
              "      // Send a message to notify the kernel that we're ready.\n",
              "      channel.send({})\n",
              "\n",
              "      for await (const message of channel.messages) {\n",
              "        // Send a message to notify the kernel that we're ready.\n",
              "        channel.send({})\n",
              "        if (message.buffers) {\n",
              "          for (const buffer of message.buffers) {\n",
              "            buffers.push(buffer);\n",
              "            downloaded += buffer.byteLength;\n",
              "            progress.value = downloaded;\n",
              "          }\n",
              "        }\n",
              "      }\n",
              "      const blob = new Blob(buffers, {type: 'application/binary'});\n",
              "      const a = document.createElement('a');\n",
              "      a.href = window.URL.createObjectURL(blob);\n",
              "      a.download = filename;\n",
              "      div.appendChild(a);\n",
              "      a.click();\n",
              "      div.remove();\n",
              "    }\n",
              "  "
            ]
          },
          "metadata": {}
        },
        {
          "output_type": "display_data",
          "data": {
            "text/plain": [
              "<IPython.core.display.Javascript object>"
            ],
            "application/javascript": [
              "download(\"download_31eae55d-d8f5-4898-89c1-d2a90c79198a\", \"E.pdf\", 1014494)"
            ]
          },
          "metadata": {}
        }
      ]
    },
    {
      "cell_type": "code",
      "source": [
        "import os\n",
        "import numpy as np\n",
        "\n",
        " # Load the .npz file\n",
        "file_path = os.path.join(path, 'Wafer_Map_Datasets.npz')\n",
        "\n",
        "data = np.load(file_path)\n",
        "\n",
        " # Check the keys in the .npz file\n",
        "print(\"Keys in the dataset:\", data.files)\n",
        "\n",
        " # Inspect the first key's data\n",
        "for key in data.files:\n",
        "     print(f\"Data for key '{key}':\", data[key])\n",
        "     break  # View just the first key to avoid overload\n"
      ],
      "metadata": {
        "colab": {
          "base_uri": "https://localhost:8080/"
        },
        "id": "EIujCc1UV4CO",
        "outputId": "554e3e60-fcaa-4402-bbe2-eee956712736"
      },
      "execution_count": 6,
      "outputs": [
        {
          "output_type": "stream",
          "name": "stdout",
          "text": [
            "Keys in the dataset: ['arr_0', 'arr_1']\n",
            "Data for key 'arr_0': [[[0 0 0 ... 0 0 0]\n",
            "  [0 0 0 ... 0 0 0]\n",
            "  [0 0 0 ... 0 0 0]\n",
            "  ...\n",
            "  [0 0 0 ... 0 0 0]\n",
            "  [0 0 0 ... 0 0 0]\n",
            "  [0 0 0 ... 0 0 0]]\n",
            "\n",
            " [[0 0 0 ... 0 0 0]\n",
            "  [0 0 0 ... 0 0 0]\n",
            "  [0 0 0 ... 0 0 0]\n",
            "  ...\n",
            "  [0 0 0 ... 0 0 0]\n",
            "  [0 0 0 ... 0 0 0]\n",
            "  [0 0 0 ... 0 0 0]]\n",
            "\n",
            " [[0 0 0 ... 0 0 0]\n",
            "  [0 0 0 ... 0 0 0]\n",
            "  [0 0 0 ... 0 0 0]\n",
            "  ...\n",
            "  [0 0 0 ... 0 0 0]\n",
            "  [0 0 0 ... 0 0 0]\n",
            "  [0 0 0 ... 0 0 0]]\n",
            "\n",
            " ...\n",
            "\n",
            " [[0 0 0 ... 0 0 0]\n",
            "  [0 0 0 ... 0 0 0]\n",
            "  [0 0 0 ... 0 0 0]\n",
            "  ...\n",
            "  [0 0 0 ... 0 0 0]\n",
            "  [0 0 0 ... 0 0 0]\n",
            "  [0 0 0 ... 0 0 0]]\n",
            "\n",
            " [[0 0 0 ... 0 0 0]\n",
            "  [0 0 0 ... 0 0 0]\n",
            "  [0 0 0 ... 0 0 0]\n",
            "  ...\n",
            "  [0 0 0 ... 0 0 0]\n",
            "  [0 0 0 ... 0 0 0]\n",
            "  [0 0 0 ... 0 0 0]]\n",
            "\n",
            " [[0 0 0 ... 0 0 0]\n",
            "  [0 0 0 ... 0 0 0]\n",
            "  [0 0 0 ... 0 0 0]\n",
            "  ...\n",
            "  [0 0 0 ... 0 0 0]\n",
            "  [0 0 0 ... 0 0 0]\n",
            "  [0 0 0 ... 0 0 0]]]\n"
          ]
        }
      ]
    },
    {
      "cell_type": "code",
      "source": [
        "import matplotlib.pyplot as plt\n",
        "import numpy as np\n",
        "\n",
        "# Load the .npz file\n",
        "file_path = os.path.join(path, 'Wafer_Map_Datasets.npz')\n",
        "data = np.load(file_path)\n",
        "\n",
        "# Check each array to see if it's an image\n",
        "for key in data.files:\n",
        "    array = data[key]\n",
        "    print(f\"Key: {key}, Shape: {array.shape}, Dtype: {array.dtype}\")\n",
        "\n",
        "                # Check if it's likely an image\n",
        "    if len(array.shape) in [2, 3]:  # 2D (grayscale) or 3D (RGB)\n",
        "       print(f\"Array '{key}' might be an image. Displaying a sample...\")\n",
        "\n",
        "                                    # Display the first image\n",
        "       plt.imshow(array[0], cmap='gray' if array.ndim == 2 else None)\n",
        "       plt.title(f\"Sample from '{key}'\")\n",
        "       plt.show()\n",
        "       break\n"
      ],
      "metadata": {
        "colab": {
          "base_uri": "https://localhost:8080/",
          "height": 488
        },
        "id": "Y0_ybhFoWvZt",
        "outputId": "9b109398-9571-453b-8a55-46d69271a250"
      },
      "execution_count": 7,
      "outputs": [
        {
          "output_type": "stream",
          "name": "stdout",
          "text": [
            "Key: arr_0, Shape: (38015, 52, 52), Dtype: int32\n",
            "Array 'arr_0' might be an image. Displaying a sample...\n"
          ]
        },
        {
          "output_type": "display_data",
          "data": {
            "text/plain": [
              "<Figure size 640x480 with 1 Axes>"
            ],
            "image/png": "[encoded data removed]"
          },
          "metadata": {}
        }
      ]
    },
    {
      "cell_type": "code",
      "source": [
        "images = data['arr_0']\n",
        "print(f\"Shape of images: {images.shape}\")\n"
      ],
      "metadata": {
        "colab": {
          "base_uri": "https://localhost:8080/"
        },
        "id": "LjPUSQMXYBi-",
        "outputId": "bb86c001-a77b-49f4-dcd2-1112fa3b387d"
      },
      "execution_count": 8,
      "outputs": [
        {
          "output_type": "stream",
          "name": "stdout",
          "text": [
            "Shape of images: (38015, 52, 52)\n"
          ]
        }
      ]
    },
    {
      "cell_type": "code",
      "source": [
        "labels = data['arr_1']\n",
        "\n",
        "# Check the shapes of images and labels\n",
        "print(f\"Shape of images: {images.shape}\")\n",
        "print(f\"Shape of labels: {labels.shape}\")"
      ],
      "metadata": {
        "colab": {
          "base_uri": "https://localhost:8080/"
        },
        "id": "e7fsbEkpZIOs",
        "outputId": "6a54b301-e26f-487a-ae5d-d0e49f8932ea"
      },
      "execution_count": 9,
      "outputs": [
        {
          "output_type": "stream",
          "name": "stdout",
          "text": [
            "Shape of images: (38015, 52, 52)\n",
            "Shape of labels: (38015, 8)\n"
          ]
        }
      ]
    },
    {
      "cell_type": "code",
      "source": [
        "print(images[0])\n",
        "plt.figure(figsize=(10,10))\n",
        "plt.imshow(images[0])"
      ],
      "metadata": {
        "colab": {
          "base_uri": "https://localhost:8080/",
          "height": 976
        },
        "id": "4h9QPzS2ZhJX",
        "outputId": "1a3f29b2-afbc-45c8-e6a8-313322dfe863"
      },
      "execution_count": 10,
      "outputs": [
        {
          "output_type": "stream",
          "name": "stdout",
          "text": [
            "[[0 0 0 ... 0 0 0]\n",
            " [0 0 0 ... 0 0 0]\n",
            " [0 0 0 ... 0 0 0]\n",
            " ...\n",
            " [0 0 0 ... 0 0 0]\n",
            " [0 0 0 ... 0 0 0]\n",
            " [0 0 0 ... 0 0 0]]\n"
          ]
        },
        {
          "output_type": "execute_result",
          "data": {
            "text/plain": [
              "<matplotlib.image.AxesImage at 0x7813fcb17ca0>"
            ]
          },
          "metadata": {},
          "execution_count": 10
        },
        {
          "output_type": "display_data",
          "data": {
            "text/plain": [
              "<Figure size 1000x1000 with 1 Axes>"
            ],
            "image/png": "[encoded data removed]"
          },
          "metadata": {}
        }
      ]
    },
    {
      "cell_type": "code",
      "source": [
        "from sklearn.model_selection import train_test_split\n",
        "\n",
        "# Split data into training, validation, and test sets\n",
        "x_train, x_temp, y_train, y_temp = train_test_split(images, labels, test_size=0.3, random_state=42)\n",
        "x_val, x_test, y_val, y_test = train_test_split(x_temp, y_temp, test_size=0.5, random_state=42)\n",
        "\n",
        "print(f\"Training set: {x_train.shape}, Validation set: {x_val.shape}, Test set: {x_test.shape}\")\n"
      ],
      "metadata": {
        "colab": {
          "base_uri": "https://localhost:8080/"
        },
        "id": "dGi5P1DIZ8zO",
        "outputId": "c4b0a6c0-ea1f-47e7-95a9-cb8c076891f5"
      },
      "execution_count": 11,
      "outputs": [
        {
          "output_type": "stream",
          "name": "stdout",
          "text": [
            "Training set: (26610, 52, 52), Validation set: (5702, 52, 52), Test set: (5703, 52, 52)\n"
          ]
        }
      ]
    },
    {
      "cell_type": "code",
      "source": [
        "print(x_train[26609].shape)"
      ],
      "metadata": {
        "colab": {
          "base_uri": "https://localhost:8080/"
        },
        "id": "u1GZs0XOEMC1",
        "outputId": "e4f22d31-ba5a-41d2-b30b-c617af33775a"
      },
      "execution_count": 12,
      "outputs": [
        {
          "output_type": "stream",
          "name": "stdout",
          "text": [
            "(52, 52)\n"
          ]
        }
      ]
    },
    {
      "cell_type": "code",
      "source": [
        "type(x_train)"
      ],
      "metadata": {
        "colab": {
          "base_uri": "https://localhost:8080/"
        },
        "id": "_Bofs0oFGu4t",
        "outputId": "ad430f38-3ab1-4004-f267-ccc2d24c499e"
      },
      "execution_count": 13,
      "outputs": [
        {
          "output_type": "execute_result",
          "data": {
            "text/plain": [
              "numpy.ndarray"
            ]
          },
          "metadata": {},
          "execution_count": 13
        }
      ]
    },
    {
      "cell_type": "code",
      "source": [
        "print(labels[0])"
      ],
      "metadata": {
        "colab": {
          "base_uri": "https://localhost:8080/"
        },
        "id": "K1XRBhI8I9zw",
        "outputId": "15453193-b6cc-4958-863a-ef511639cb3d"
      },
      "execution_count": 14,
      "outputs": [
        {
          "output_type": "stream",
          "name": "stdout",
          "text": [
            "[1 0 1 0 0 0 1 0]\n"
          ]
        }
      ]
    },
    {
      "source": [
        "import torch\n",
        "\n",
        "# Assuming x_train, x_val, x_test are your NumPy arrays\n",
        "x_train_tensor = torch.from_numpy(x_train)\n",
        "x_val_tensor = torch.from_numpy(x_val)\n",
        "x_test_tensor = torch.from_numpy(x_test)\n",
        "\n",
        "# Do the same for your labels (y_train, y_val, y_test)\n",
        "y_train_tensor = torch.from_numpy(y_train)\n",
        "y_val_tensor = torch.from_numpy(y_val)\n",
        "y_test_tensor = torch.from_numpy(y_test)"
      ],
      "cell_type": "code",
      "metadata": {
        "id": "fTZVrZstG4k9"
      },
      "execution_count": 15,
      "outputs": []
    },
    {
      "cell_type": "code",
      "source": [
        "y_test_tensor.shape"
      ],
      "metadata": {
        "colab": {
          "base_uri": "https://localhost:8080/"
        },
        "id": "qEoPrcsSQHdf",
        "outputId": "e1139acd-135e-4bae-d9d1-ba23db900b70"
      },
      "execution_count": 16,
      "outputs": [
        {
          "output_type": "execute_result",
          "data": {
            "text/plain": [
              "torch.Size([5703, 8])"
            ]
          },
          "metadata": {},
          "execution_count": 16
        }
      ]
    },
    {
      "cell_type": "code",
      "source": [
        "y_test_integers = torch.argmax(y_test_tensor, dim=1)"
      ],
      "metadata": {
        "id": "hXSUmAHSQUzx"
      },
      "execution_count": 17,
      "outputs": []
    },
    {
      "cell_type": "code",
      "source": [
        "y_valid_integers = torch.argmax(y_val_tensor, dim=1)"
      ],
      "metadata": {
        "id": "D8ISI4-XzoJR"
      },
      "execution_count": 65,
      "outputs": []
    },
    {
      "cell_type": "code",
      "source": [
        "type(x_train_tensor)"
      ],
      "metadata": {
        "colab": {
          "base_uri": "https://localhost:8080/"
        },
        "id": "xwpdwrwKG71d",
        "outputId": "7a9f47a5-907b-4490-a2f7-08cf5031951b"
      },
      "execution_count": 18,
      "outputs": [
        {
          "output_type": "execute_result",
          "data": {
            "text/plain": [
              "torch.Tensor"
            ]
          },
          "metadata": {},
          "execution_count": 18
        }
      ]
    },
    {
      "cell_type": "code",
      "source": [
        "y_train_tensor.shape"
      ],
      "metadata": {
        "colab": {
          "base_uri": "https://localhost:8080/"
        },
        "id": "f0qIfrHdJcWu",
        "outputId": "5d283906-117f-4ea7-8d12-72c895d0a9d2"
      },
      "execution_count": 19,
      "outputs": [
        {
          "output_type": "execute_result",
          "data": {
            "text/plain": [
              "torch.Size([26610, 8])"
            ]
          },
          "metadata": {},
          "execution_count": 19
        }
      ]
    },
    {
      "cell_type": "code",
      "source": [
        "y_train_integers = torch.argmax(y_train_tensor, dim=1)\n"
      ],
      "metadata": {
        "id": "z9kky8IzJiJV"
      },
      "execution_count": 20,
      "outputs": []
    },
    {
      "cell_type": "code",
      "source": [
        "y_train_integers.shape"
      ],
      "metadata": {
        "colab": {
          "base_uri": "https://localhost:8080/"
        },
        "id": "K2WhcCLdJtHe",
        "outputId": "9ba1abdd-cbe2-48d5-a53e-64494032142a"
      },
      "execution_count": 21,
      "outputs": [
        {
          "output_type": "execute_result",
          "data": {
            "text/plain": [
              "torch.Size([26610])"
            ]
          },
          "metadata": {},
          "execution_count": 21
        }
      ]
    },
    {
      "cell_type": "code",
      "source": [
        "import torch\n",
        "import torch.nn as nn"
      ],
      "metadata": {
        "id": "Tmt2peXEGkwO"
      },
      "execution_count": 22,
      "outputs": []
    },
    {
      "source": [
        "import torch.nn as nn\n",
        ""
      ],
      "cell_type": "code",
      "metadata": {
        "id": "tXHYh3FBmzCQ"
      },
      "execution_count": 43,
      "outputs": []
    },
    {
      "source": [
        "import torch.nn as nn\n",
        "\n",
        "class OneConv(nn.Module):\n",
        "    def __init__(self):\n",
        "        super(OneConv, self).__init__()\n",
        "\n",
        "        # Convolutional layers\n",
        "        self.conv = nn.Conv2d(in_channels=1, out_channels=9, kernel_size=(5, 5))\n",
        "        self.flatten = nn.Flatten()\n",
        "        # The output of the convolutional layer is 9 channels, 48x48 (52 input - 5 kernel + 1 padding on each side = 48)\n",
        "        # So the flattened size is 9 * 48 * 48\n",
        "        self.fc = nn.Linear(9 * 48 * 48, 8)  # Output size is 8\n",
        "\n",
        "    def forward(self, x):\n",
        "        # Pass through convolutional layers\n",
        "        x = nn.functional.relu(self.conv(x))\n",
        "\n",
        "        # Flatten the output from convolutional layers\n",
        "        x = self.flatten(x)\n",
        "\n",
        "        # Pass through fully connected layers\n",
        "        x = nn.functional.log_softmax(self.fc(x), dim=1)\n",
        "        return x"
      ],
      "cell_type": "code",
      "metadata": {
        "id": "H5ZnQN6doEWO"
      },
      "execution_count": 47,
      "outputs": []
    },
    {
      "cell_type": "code",
      "source": [
        "!pip install torchviz"
      ],
      "metadata": {
        "colab": {
          "base_uri": "https://localhost:8080/"
        },
        "id": "3edwVGZtfSY8",
        "outputId": "02bfd722-76a1-483e-d07c-38dd0d2bbf68"
      },
      "execution_count": 24,
      "outputs": [
        {
          "output_type": "stream",
          "name": "stdout",
          "text": [
            "Requirement already satisfied: torchviz in /usr/local/lib/python3.10/dist-packages (0.0.3)\n",
            "Requirement already satisfied: torch in /usr/local/lib/python3.10/dist-packages (from torchviz) (2.5.1+cu121)\n",
            "Requirement already satisfied: graphviz in /usr/local/lib/python3.10/dist-packages (from torchviz) (0.20.3)\n",
            "Requirement already satisfied: filelock in /usr/local/lib/python3.10/dist-packages (from torch->torchviz) (3.16.1)\n",
            "Requirement already satisfied: typing-extensions>=4.8.0 in /usr/local/lib/python3.10/dist-packages (from torch->torchviz) (4.12.2)\n",
            "Requirement already satisfied: networkx in /usr/local/lib/python3.10/dist-packages (from torch->torchviz) (3.4.2)\n",
            "Requirement already satisfied: jinja2 in /usr/local/lib/python3.10/dist-packages (from torch->torchviz) (3.1.4)\n",
            "Requirement already satisfied: fsspec in /usr/local/lib/python3.10/dist-packages (from torch->torchviz) (2024.10.0)\n",
            "Requirement already satisfied: sympy==1.13.1 in /usr/local/lib/python3.10/dist-packages (from torch->torchviz) (1.13.1)\n",
            "Requirement already satisfied: mpmath<1.4,>=1.1.0 in /usr/local/lib/python3.10/dist-packages (from sympy==1.13.1->torch->torchviz) (1.3.0)\n",
            "Requirement already satisfied: MarkupSafe>=2.0 in /usr/local/lib/python3.10/dist-packages (from jinja2->torch->torchviz) (3.0.2)\n"
          ]
        }
      ]
    },
    {
      "cell_type": "code",
      "source": [
        "from torchviz import make_dot\n",
        "import torch\n"
      ],
      "metadata": {
        "id": "jZcxLbZKL-KQ"
      },
      "execution_count": 38,
      "outputs": []
    },
    {
      "cell_type": "code",
      "source": [
        "net = OneConv()"
      ],
      "metadata": {
        "id": "H7QDFGKyla1F"
      },
      "execution_count": 48,
      "outputs": []
    },
    {
      "cell_type": "code",
      "source": [
        "dummy_input = torch.randn( 1,1, 52, 52)"
      ],
      "metadata": {
        "id": "2vMPT1dGL_fX"
      },
      "execution_count": 49,
      "outputs": []
    },
    {
      "cell_type": "code",
      "source": [
        "output=net(dummy_input)"
      ],
      "metadata": {
        "id": "c651sWN_gmqs"
      },
      "execution_count": 50,
      "outputs": []
    },
    {
      "cell_type": "code",
      "source": [
        "dot = make_dot(output, params=dict(net.named_parameters()))"
      ],
      "metadata": {
        "id": "Kn7wIkXwMRKJ"
      },
      "execution_count": 52,
      "outputs": []
    },
    {
      "cell_type": "code",
      "source": [
        "dot.format = \"svg\"  # Set the format to SVG for inline display\n",
        "display(dot)  # Directly render in the Colab notebook\n"
      ],
      "metadata": {
        "colab": {
          "base_uri": "https://localhost:8080/",
          "height": 630
        },
        "id": "GZqppdFIMUyf",
        "outputId": "85e4697f-be73-4482-f8e6-f12700952370"
      },
      "execution_count": 53,
      "outputs": [
        {
          "output_type": "display_data",
          "data": {
            "image/svg+xml": "<?xml version=\"1.0\" encoding=\"UTF-8\" standalone=\"no\"?>\n<!DOCTYPE svg PUBLIC \"-//W3C//DTD SVG 1.1//EN\"\n \"http://www.w3.org/Graphics/SVG/1.1/DTD/svg11.dtd\">\n<!-- Generated by graphviz version 2.43.0 (0)\n -->\n<!-- Title: %3 Pages: 1 -->\n<svg width=\"333pt\" height=\"457pt\"\n viewBox=\"0.00 0.00 333.00 457.00\" xmlns=\"http://www.w3.org/2000/svg\" xmlns:xlink=\"http://www.w3.org/1999/xlink\">\n<g id=\"graph0\" class=\"graph\" transform=\"scale(1 1) rotate(0) translate(4 453)\">\n<title>%3</title>\n<polygon fill=\"white\" stroke=\"transparent\" points=\"-4,4 -4,-453 329,-453 329,4 -4,4\"/>\n<!-- 132022675345056 -->\n<g id=\"node1\" class=\"node\">\n<title>132022675345056</title>\n<polygon fill=\"#caff70\" stroke=\"black\" points=\"196,-31 137,-31 137,0 196,0 196,-31\"/>\n<text text-anchor=\"middle\" x=\"166.5\" y=\"-7\" font-family=\"monospace\" font-size=\"10.00\"> (1, 8)</text>\n</g>\n<!-- 132022676605200 -->\n<g id=\"node2\" class=\"node\">\n<title>132022676605200</title>\n<polygon fill=\"lightgrey\" stroke=\"black\" points=\"232,-86 101,-86 101,-67 232,-67 232,-86\"/>\n<text text-anchor=\"middle\" x=\"166.5\" y=\"-74\" font-family=\"monospace\" font-size=\"10.00\">LogSoftmaxBackward0</text>\n</g>\n<!-- 132022676605200&#45;&gt;132022675345056 -->\n<g id=\"edge14\" class=\"edge\">\n<title>132022676605200&#45;&gt;132022675345056</title>\n<path fill=\"none\" stroke=\"black\" d=\"M166.5,-66.79C166.5,-60.07 166.5,-50.4 166.5,-41.34\"/>\n<polygon fill=\"black\" stroke=\"black\" points=\"170,-41.19 166.5,-31.19 163,-41.19 170,-41.19\"/>\n</g>\n<!-- 132022676610240 -->\n<g id=\"node3\" class=\"node\">\n<title>132022676610240</title>\n<polygon fill=\"lightgrey\" stroke=\"black\" points=\"217,-141 116,-141 116,-122 217,-122 217,-141\"/>\n<text text-anchor=\"middle\" x=\"166.5\" y=\"-129\" font-family=\"monospace\" font-size=\"10.00\">AddmmBackward0</text>\n</g>\n<!-- 132022676610240&#45;&gt;132022676605200 -->\n<g id=\"edge1\" class=\"edge\">\n<title>132022676610240&#45;&gt;132022676605200</title>\n<path fill=\"none\" stroke=\"black\" d=\"M166.5,-121.75C166.5,-114.8 166.5,-104.85 166.5,-96.13\"/>\n<polygon fill=\"black\" stroke=\"black\" points=\"170,-96.09 166.5,-86.09 163,-96.09 170,-96.09\"/>\n</g>\n<!-- 132022676606592 -->\n<g id=\"node4\" class=\"node\">\n<title>132022676606592</title>\n<polygon fill=\"lightgrey\" stroke=\"black\" points=\"101,-196 0,-196 0,-177 101,-177 101,-196\"/>\n<text text-anchor=\"middle\" x=\"50.5\" y=\"-184\" font-family=\"monospace\" font-size=\"10.00\">AccumulateGrad</text>\n</g>\n<!-- 132022676606592&#45;&gt;132022676610240 -->\n<g id=\"edge2\" class=\"edge\">\n<title>132022676606592&#45;&gt;132022676610240</title>\n<path fill=\"none\" stroke=\"black\" d=\"M69.14,-176.98C87.8,-168.46 116.75,-155.23 138.24,-145.41\"/>\n<polygon fill=\"black\" stroke=\"black\" points=\"139.88,-148.51 147.52,-141.17 136.97,-142.14 139.88,-148.51\"/>\n</g>\n<!-- 132022676107600 -->\n<g id=\"node5\" class=\"node\">\n<title>132022676107600</title>\n<polygon fill=\"lightblue\" stroke=\"black\" points=\"80,-262 21,-262 21,-232 80,-232 80,-262\"/>\n<text text-anchor=\"middle\" x=\"50.5\" y=\"-250\" font-family=\"monospace\" font-size=\"10.00\">fc.bias</text>\n<text text-anchor=\"middle\" x=\"50.5\" y=\"-239\" font-family=\"monospace\" font-size=\"10.00\"> (8)</text>\n</g>\n<!-- 132022676107600&#45;&gt;132022676606592 -->\n<g id=\"edge3\" class=\"edge\">\n<title>132022676107600&#45;&gt;132022676606592</title>\n<path fill=\"none\" stroke=\"black\" d=\"M50.5,-231.84C50.5,-224.21 50.5,-214.7 50.5,-206.45\"/>\n<polygon fill=\"black\" stroke=\"black\" points=\"54,-206.27 50.5,-196.27 47,-206.27 54,-206.27\"/>\n</g>\n<!-- 132022676603712 -->\n<g id=\"node6\" class=\"node\">\n<title>132022676603712</title>\n<polygon fill=\"lightgrey\" stroke=\"black\" points=\"214,-196 119,-196 119,-177 214,-177 214,-196\"/>\n<text text-anchor=\"middle\" x=\"166.5\" y=\"-184\" font-family=\"monospace\" font-size=\"10.00\">ViewBackward0</text>\n</g>\n<!-- 132022676603712&#45;&gt;132022676610240 -->\n<g id=\"edge4\" class=\"edge\">\n<title>132022676603712&#45;&gt;132022676610240</title>\n<path fill=\"none\" stroke=\"black\" d=\"M166.5,-176.75C166.5,-169.8 166.5,-159.85 166.5,-151.13\"/>\n<polygon fill=\"black\" stroke=\"black\" points=\"170,-151.09 166.5,-141.09 163,-151.09 170,-151.09\"/>\n</g>\n<!-- 132022676615664 -->\n<g id=\"node7\" class=\"node\">\n<title>132022676615664</title>\n<polygon fill=\"lightgrey\" stroke=\"black\" points=\"198,-256.5 103,-256.5 103,-237.5 198,-237.5 198,-256.5\"/>\n<text text-anchor=\"middle\" x=\"150.5\" y=\"-244.5\" font-family=\"monospace\" font-size=\"10.00\">ReluBackward0</text>\n</g>\n<!-- 132022676615664&#45;&gt;132022676603712 -->\n<g id=\"edge5\" class=\"edge\">\n<title>132022676615664&#45;&gt;132022676603712</title>\n<path fill=\"none\" stroke=\"black\" d=\"M152.86,-237.37C155.11,-229.16 158.56,-216.54 161.43,-206.05\"/>\n<polygon fill=\"black\" stroke=\"black\" points=\"164.87,-206.74 164.13,-196.17 158.12,-204.89 164.87,-206.74\"/>\n</g>\n<!-- 132022676618928 -->\n<g id=\"node8\" class=\"node\">\n<title>132022676618928</title>\n<polygon fill=\"lightgrey\" stroke=\"black\" points=\"216,-322.5 79,-322.5 79,-303.5 216,-303.5 216,-322.5\"/>\n<text text-anchor=\"middle\" x=\"147.5\" y=\"-310.5\" font-family=\"monospace\" font-size=\"10.00\">ConvolutionBackward0</text>\n</g>\n<!-- 132022676618928&#45;&gt;132022676615664 -->\n<g id=\"edge6\" class=\"edge\">\n<title>132022676618928&#45;&gt;132022676615664</title>\n<path fill=\"none\" stroke=\"black\" d=\"M147.9,-303.37C148.34,-294.07 149.05,-278.98 149.61,-266.9\"/>\n<polygon fill=\"black\" stroke=\"black\" points=\"153.11,-267.06 150.08,-256.91 146.12,-266.73 153.11,-267.06\"/>\n</g>\n<!-- 132022676618544 -->\n<g id=\"node9\" class=\"node\">\n<title>132022676618544</title>\n<polygon fill=\"lightgrey\" stroke=\"black\" points=\"139,-383 38,-383 38,-364 139,-364 139,-383\"/>\n<text text-anchor=\"middle\" x=\"88.5\" y=\"-371\" font-family=\"monospace\" font-size=\"10.00\">AccumulateGrad</text>\n</g>\n<!-- 132022676618544&#45;&gt;132022676618928 -->\n<g id=\"edge7\" class=\"edge\">\n<title>132022676618544&#45;&gt;132022676618928</title>\n<path fill=\"none\" stroke=\"black\" d=\"M97.21,-363.87C106.18,-354.97 120.38,-340.89 131.41,-329.95\"/>\n<polygon fill=\"black\" stroke=\"black\" points=\"134.12,-332.19 138.76,-322.67 129.19,-327.22 134.12,-332.19\"/>\n</g>\n<!-- 132022675324368 -->\n<g id=\"node10\" class=\"node\">\n<title>132022675324368</title>\n<polygon fill=\"lightblue\" stroke=\"black\" points=\"136,-449 41,-449 41,-419 136,-419 136,-449\"/>\n<text text-anchor=\"middle\" x=\"88.5\" y=\"-437\" font-family=\"monospace\" font-size=\"10.00\">conv.weight</text>\n<text text-anchor=\"middle\" x=\"88.5\" y=\"-426\" font-family=\"monospace\" font-size=\"10.00\"> (9, 1, 5, 5)</text>\n</g>\n<!-- 132022675324368&#45;&gt;132022676618544 -->\n<g id=\"edge8\" class=\"edge\">\n<title>132022675324368&#45;&gt;132022676618544</title>\n<path fill=\"none\" stroke=\"black\" d=\"M88.5,-418.84C88.5,-411.21 88.5,-401.7 88.5,-393.45\"/>\n<polygon fill=\"black\" stroke=\"black\" points=\"92,-393.27 88.5,-383.27 85,-393.27 92,-393.27\"/>\n</g>\n<!-- 132022676610096 -->\n<g id=\"node11\" class=\"node\">\n<title>132022676610096</title>\n<polygon fill=\"lightgrey\" stroke=\"black\" points=\"258,-383 157,-383 157,-364 258,-364 258,-383\"/>\n<text text-anchor=\"middle\" x=\"207.5\" y=\"-371\" font-family=\"monospace\" font-size=\"10.00\">AccumulateGrad</text>\n</g>\n<!-- 132022676610096&#45;&gt;132022676618928 -->\n<g id=\"edge9\" class=\"edge\">\n<title>132022676610096&#45;&gt;132022676618928</title>\n<path fill=\"none\" stroke=\"black\" d=\"M198.65,-363.87C189.52,-354.97 175.08,-340.89 163.86,-329.95\"/>\n<polygon fill=\"black\" stroke=\"black\" points=\"165.99,-327.14 156.39,-322.67 161.11,-332.15 165.99,-327.14\"/>\n</g>\n<!-- 132022674741488 -->\n<g id=\"node12\" class=\"node\">\n<title>132022674741488</title>\n<polygon fill=\"lightblue\" stroke=\"black\" points=\"243,-449 172,-449 172,-419 243,-419 243,-449\"/>\n<text text-anchor=\"middle\" x=\"207.5\" y=\"-437\" font-family=\"monospace\" font-size=\"10.00\">conv.bias</text>\n<text text-anchor=\"middle\" x=\"207.5\" y=\"-426\" font-family=\"monospace\" font-size=\"10.00\"> (9)</text>\n</g>\n<!-- 132022674741488&#45;&gt;132022676610096 -->\n<g id=\"edge10\" class=\"edge\">\n<title>132022674741488&#45;&gt;132022676610096</title>\n<path fill=\"none\" stroke=\"black\" d=\"M207.5,-418.84C207.5,-411.21 207.5,-401.7 207.5,-393.45\"/>\n<polygon fill=\"black\" stroke=\"black\" points=\"211,-393.27 207.5,-383.27 204,-393.27 211,-393.27\"/>\n</g>\n<!-- 132022676608224 -->\n<g id=\"node13\" class=\"node\">\n<title>132022676608224</title>\n<polygon fill=\"lightgrey\" stroke=\"black\" points=\"312,-196 235,-196 235,-177 312,-177 312,-196\"/>\n<text text-anchor=\"middle\" x=\"273.5\" y=\"-184\" font-family=\"monospace\" font-size=\"10.00\">TBackward0</text>\n</g>\n<!-- 132022676608224&#45;&gt;132022676610240 -->\n<g id=\"edge11\" class=\"edge\">\n<title>132022676608224&#45;&gt;132022676610240</title>\n<path fill=\"none\" stroke=\"black\" d=\"M256.31,-176.98C239.25,-168.54 212.87,-155.47 193.1,-145.68\"/>\n<polygon fill=\"black\" stroke=\"black\" points=\"194.52,-142.47 184,-141.17 191.41,-148.75 194.52,-142.47\"/>\n</g>\n<!-- 132022676603520 -->\n<g id=\"node14\" class=\"node\">\n<title>132022676603520</title>\n<polygon fill=\"lightgrey\" stroke=\"black\" points=\"325,-256.5 224,-256.5 224,-237.5 325,-237.5 325,-256.5\"/>\n<text text-anchor=\"middle\" x=\"274.5\" y=\"-244.5\" font-family=\"monospace\" font-size=\"10.00\">AccumulateGrad</text>\n</g>\n<!-- 132022676603520&#45;&gt;132022676608224 -->\n<g id=\"edge12\" class=\"edge\">\n<title>132022676603520&#45;&gt;132022676608224</title>\n<path fill=\"none\" stroke=\"black\" d=\"M274.35,-237.37C274.21,-229.25 274,-216.81 273.82,-206.39\"/>\n<polygon fill=\"black\" stroke=\"black\" points=\"277.32,-206.11 273.65,-196.17 270.32,-206.23 277.32,-206.11\"/>\n</g>\n<!-- 132022676271120 -->\n<g id=\"node15\" class=\"node\">\n<title>132022676271120</title>\n<polygon fill=\"lightblue\" stroke=\"black\" points=\"317,-328 234,-328 234,-298 317,-298 317,-328\"/>\n<text text-anchor=\"middle\" x=\"275.5\" y=\"-316\" font-family=\"monospace\" font-size=\"10.00\">fc.weight</text>\n<text text-anchor=\"middle\" x=\"275.5\" y=\"-305\" font-family=\"monospace\" font-size=\"10.00\"> (8, 20736)</text>\n</g>\n<!-- 132022676271120&#45;&gt;132022676603520 -->\n<g id=\"edge13\" class=\"edge\">\n<title>132022676271120&#45;&gt;132022676603520</title>\n<path fill=\"none\" stroke=\"black\" d=\"M275.28,-297.8C275.14,-288.7 274.95,-276.79 274.8,-266.9\"/>\n<polygon fill=\"black\" stroke=\"black\" points=\"278.29,-266.79 274.64,-256.84 271.29,-266.9 278.29,-266.79\"/>\n</g>\n</g>\n</svg>\n",
            "text/plain": [
              "<graphviz.graphs.Digraph at 0x7812ecbdfb80>"
            ]
          },
          "metadata": {}
        }
      ]
    },
    {
      "cell_type": "code",
      "source": [
        "\n",
        "import torch.optim as optim"
      ],
      "metadata": {
        "id": "6KTggMPvMeQJ"
      },
      "execution_count": 54,
      "outputs": []
    },
    {
      "cell_type": "code",
      "source": [
        "model = OneConv()\n",
        "loss_function = nn.NLLLoss()  # Negative Log-Likelihood Loss\n",
        "optimizer = optim.SGD(model.parameters(), lr=0.01)"
      ],
      "metadata": {
        "id": "pzL_-F2ZMg3O"
      },
      "execution_count": 56,
      "outputs": []
    },
    {
      "source": [
        "# Training loop\n",
        "epochs = 100\n",
        "for epoch in range(epochs):\n",
        "    # Forward pass\n",
        "    # Reshape x_train_tensor to have 1 channel\n",
        "    y_pred = model(x_train_tensor.float().unsqueeze(1))  # Add channel dimension\n",
        "    # Compute loss\n",
        "    loss = loss_function(y_pred, y_train_integers)\n",
        "    # Backward pass\n",
        "    optimizer.zero_grad()\n",
        "    loss.backward()\n",
        "    optimizer.step()\n",
        "    print(f'Epoch [{epoch+1}/{epochs}], Loss: {loss.item()}')"
      ],
      "cell_type": "code",
      "metadata": {
        "colab": {
          "base_uri": "https://localhost:8080/"
        },
        "id": "ZOjilQtQovbe",
        "outputId": "4f483797-d907-4a64-8db2-3b04c6a74837"
      },
      "execution_count": 58,
      "outputs": [
        {
          "output_type": "stream",
          "name": "stdout",
          "text": [
            "Epoch [1/100], Loss: 2.0959341526031494\n",
            "Epoch [2/100], Loss: 10.484537124633789\n",
            "Epoch [3/100], Loss: 2.1259822845458984\n",
            "Epoch [4/100], Loss: 1.9852299690246582\n",
            "Epoch [5/100], Loss: 1.8769118785858154\n",
            "Epoch [6/100], Loss: 1.7920408248901367\n",
            "Epoch [7/100], Loss: 1.7265015840530396\n",
            "Epoch [8/100], Loss: 1.6775518655776978\n",
            "Epoch [9/100], Loss: 1.6423934698104858\n",
            "Epoch [10/100], Loss: 1.6178736686706543\n",
            "Epoch [11/100], Loss: 1.6008727550506592\n",
            "Epoch [12/100], Loss: 1.5887874364852905\n",
            "Epoch [13/100], Loss: 1.5797840356826782\n",
            "Epoch [14/100], Loss: 1.5727211236953735\n",
            "Epoch [15/100], Loss: 1.5669028759002686\n",
            "Epoch [16/100], Loss: 1.5618947744369507\n",
            "Epoch [17/100], Loss: 1.5574580430984497\n",
            "Epoch [18/100], Loss: 1.5534385442733765\n",
            "Epoch [19/100], Loss: 1.5497300624847412\n",
            "Epoch [20/100], Loss: 1.5462948083877563\n",
            "Epoch [21/100], Loss: 1.5430817604064941\n",
            "Epoch [22/100], Loss: 1.5400077104568481\n",
            "Epoch [23/100], Loss: 1.5370283126831055\n",
            "Epoch [24/100], Loss: 1.5341176986694336\n",
            "Epoch [25/100], Loss: 1.5312613248825073\n",
            "Epoch [26/100], Loss: 1.528428077697754\n",
            "Epoch [27/100], Loss: 1.525600552558899\n",
            "Epoch [28/100], Loss: 1.5227540731430054\n",
            "Epoch [29/100], Loss: 1.5198663473129272\n",
            "Epoch [30/100], Loss: 1.5169144868850708\n",
            "Epoch [31/100], Loss: 1.5138622522354126\n",
            "Epoch [32/100], Loss: 1.5106829404830933\n",
            "Epoch [33/100], Loss: 1.5073689222335815\n",
            "Epoch [34/100], Loss: 1.5038948059082031\n",
            "Epoch [35/100], Loss: 1.500266671180725\n",
            "Epoch [36/100], Loss: 1.4964361190795898\n",
            "Epoch [37/100], Loss: 1.4923738241195679\n",
            "Epoch [38/100], Loss: 1.4880460500717163\n",
            "Epoch [39/100], Loss: 1.4834392070770264\n",
            "Epoch [40/100], Loss: 1.4784659147262573\n",
            "Epoch [41/100], Loss: 1.47306489944458\n",
            "Epoch [42/100], Loss: 1.4671947956085205\n",
            "Epoch [43/100], Loss: 1.4608105421066284\n",
            "Epoch [44/100], Loss: 1.4537794589996338\n",
            "Epoch [45/100], Loss: 1.4459277391433716\n",
            "Epoch [46/100], Loss: 1.4372905492782593\n",
            "Epoch [47/100], Loss: 1.4278502464294434\n",
            "Epoch [48/100], Loss: 1.417636513710022\n",
            "Epoch [49/100], Loss: 1.4065996408462524\n",
            "Epoch [50/100], Loss: 1.3947558403015137\n",
            "Epoch [51/100], Loss: 1.3818317651748657\n",
            "Epoch [52/100], Loss: 1.3684186935424805\n",
            "Epoch [53/100], Loss: 1.3587729930877686\n",
            "Epoch [54/100], Loss: 1.3932687044143677\n",
            "Epoch [55/100], Loss: 1.7252761125564575\n",
            "Epoch [56/100], Loss: 1.6768938302993774\n",
            "Epoch [57/100], Loss: 1.4623258113861084\n",
            "Epoch [58/100], Loss: 1.3825864791870117\n",
            "Epoch [59/100], Loss: 1.346413016319275\n",
            "Epoch [60/100], Loss: 1.3234164714813232\n",
            "Epoch [61/100], Loss: 1.3028908967971802\n",
            "Epoch [62/100], Loss: 1.2833552360534668\n",
            "Epoch [63/100], Loss: 1.2646677494049072\n",
            "Epoch [64/100], Loss: 1.2466806173324585\n",
            "Epoch [65/100], Loss: 1.2292966842651367\n",
            "Epoch [66/100], Loss: 1.2124327421188354\n",
            "Epoch [67/100], Loss: 1.1965045928955078\n",
            "Epoch [68/100], Loss: 1.1858042478561401\n",
            "Epoch [69/100], Loss: 1.2242404222488403\n",
            "Epoch [70/100], Loss: 1.6823848485946655\n",
            "Epoch [71/100], Loss: 2.0930871963500977\n",
            "Epoch [72/100], Loss: 1.6134390830993652\n",
            "Epoch [73/100], Loss: 1.482367753982544\n",
            "Epoch [74/100], Loss: 1.377997636795044\n",
            "Epoch [75/100], Loss: 1.293820858001709\n",
            "Epoch [76/100], Loss: 1.2347431182861328\n",
            "Epoch [77/100], Loss: 1.1972829103469849\n",
            "Epoch [78/100], Loss: 1.1671559810638428\n",
            "Epoch [79/100], Loss: 1.1419836282730103\n",
            "Epoch [80/100], Loss: 1.1202714443206787\n",
            "Epoch [81/100], Loss: 1.1007169485092163\n",
            "Epoch [82/100], Loss: 1.0827853679656982\n",
            "Epoch [83/100], Loss: 1.0662795305252075\n",
            "Epoch [84/100], Loss: 1.0520294904708862\n",
            "Epoch [85/100], Loss: 1.0536271333694458\n",
            "Epoch [86/100], Loss: 1.2411129474639893\n",
            "Epoch [87/100], Loss: 2.471160888671875\n",
            "Epoch [88/100], Loss: 1.9124270677566528\n",
            "Epoch [89/100], Loss: 1.5729163885116577\n",
            "Epoch [90/100], Loss: 1.4599217176437378\n",
            "Epoch [91/100], Loss: 1.385878324508667\n",
            "Epoch [92/100], Loss: 1.3257150650024414\n",
            "Epoch [93/100], Loss: 1.2678515911102295\n",
            "Epoch [94/100], Loss: 1.1972296237945557\n",
            "Epoch [95/100], Loss: 1.1429864168167114\n",
            "Epoch [96/100], Loss: 1.1004798412322998\n",
            "Epoch [97/100], Loss: 1.0669116973876953\n",
            "Epoch [98/100], Loss: 1.039813756942749\n",
            "Epoch [99/100], Loss: 1.0176254510879517\n",
            "Epoch [100/100], Loss: 0.9988033771514893\n"
          ]
        }
      ]
    },
    {
      "cell_type": "code",
      "source": [
        "test_loss = 0\n",
        "correct = 0\n",
        "total = 0"
      ],
      "metadata": {
        "id": "qQ5AvSieP3E5"
      },
      "execution_count": 60,
      "outputs": []
    },
    {
      "cell_type": "code",
      "source": [
        "y_test_integers.shape"
      ],
      "metadata": {
        "colab": {
          "base_uri": "https://localhost:8080/"
        },
        "id": "8oSPLLUBQfce",
        "outputId": "068bb111-fff7-4f14-c6eb-af2b0e112c04"
      },
      "execution_count": 61,
      "outputs": [
        {
          "output_type": "execute_result",
          "data": {
            "text/plain": [
              "torch.Size([5703])"
            ]
          },
          "metadata": {},
          "execution_count": 61
        }
      ]
    },
    {
      "source": [
        "with torch.no_grad():\n",
        "    for i in range(len(x_test_tensor)):  # Iterate over the length of the test set\n",
        "        # Forward pass: Get predictions from the model\n",
        "        # Correctly reshape to [batch_size, channels, height, width] which is [1, 1, 52, 52]\n",
        "        pred = model(x_test_tensor[i].float().unsqueeze(0).unsqueeze(0))\n",
        "        # Calculate the loss\n",
        "        loss = loss_function(pred, y_test_integers[i].unsqueeze(0)).item() # Add an extra dimension to labels\n",
        "        test_loss += loss  # Accumulate the loss\n",
        "\n",
        "        # Get the predicted class labels\n",
        "        _, predicted = torch.max(pred, 1)  # pred contains raw output (logits), so we use torch.max to get the predicted class index\n",
        "\n",
        "        # Calculate the number of correct predictions\n",
        "        total += 1  # Increment total by 1 for each sample\n",
        "        correct += (predicted == y_test_integers[i]).sum().item()  # Compare with the correct label\n",
        "\n",
        "    # Calculate the average test loss\n",
        "    average_test_loss = test_loss / len(x_test_tensor)\n",
        "\n",
        "    # Calculate the accuracy\n",
        "    accuracy = 100 * correct / total\n",
        "\n",
        "    print(f'Average Test Loss: {average_test_loss:.4f}')\n",
        "    print(f'Accuracy: {accuracy:.2f}%')"
      ],
      "cell_type": "code",
      "metadata": {
        "colab": {
          "base_uri": "https://localhost:8080/"
        },
        "id": "fN1nhXdTzY-K",
        "outputId": "21029146-de55-4378-e15f-09dd3fd648f2"
      },
      "execution_count": 64,
      "outputs": [
        {
          "output_type": "stream",
          "name": "stdout",
          "text": [
            "Average Test Loss: 0.9992\n",
            "Accuracy: 65.11%\n"
          ]
        }
      ]
    },
    {
      "cell_type": "code",
      "source": [
        "val_loss = 0\n",
        "correct = 0\n",
        "total = 0"
      ],
      "metadata": {
        "id": "b38o9eIA0JUZ"
      },
      "execution_count": 66,
      "outputs": []
    },
    {
      "source": [
        "with torch.no_grad():\n",
        "    for i in range(len(x_val_tensor)):  # Iterate over the length of the test set\n",
        "        # Forward pass: Get predictions from the model\n",
        "        # Correctly reshape to [batch_size, channels, height, width] which is [1, 1, 52, 52]\n",
        "        pred = model(x_val_tensor[i].float().unsqueeze(0).unsqueeze(0))\n",
        "        # Calculate the loss\n",
        "        loss = loss_function(pred, y_valid_integers[i].unsqueeze(0)).item() # Add an extra dimension to labels\n",
        "        val_loss += loss  # Accumulate the loss\n",
        "\n",
        "        # Get the predicted class labels\n",
        "        _, predicted = torch.max(pred, 1)  # pred contains raw output (logits), so we use torch.max to get the predicted class index\n",
        "\n",
        "        # Calculate the number of correct predictions\n",
        "        total += 1  # Increment total by 1 for each sample\n",
        "        correct += (predicted == y_valid_integers[i]).sum().item()  # Compare with the correct label\n",
        "\n",
        "    # Calculate the average test loss\n",
        "    average_val_loss = val_loss / len(x_val_tensor)\n",
        "\n",
        "    # Calculate the accuracy\n",
        "    accuracy = 100 * correct / total\n",
        "\n",
        "    print(f'Average Val Loss: {average_val_loss:.4f}')\n",
        "    print(f'Accuracy: {accuracy:.2f}%')"
      ],
      "cell_type": "code",
      "metadata": {
        "colab": {
          "base_uri": "https://localhost:8080/"
        },
        "id": "XKs2q0IPz0Lz",
        "outputId": "1d51fdca-e235-4da8-d12b-4ac69a545fc4"
      },
      "execution_count": 70,
      "outputs": [
        {
          "output_type": "stream",
          "name": "stdout",
          "text": [
            "Average Val Loss: 3.9691\n",
            "Accuracy: 66.40%\n"
          ]
        }
      ]
    }
  ]
}